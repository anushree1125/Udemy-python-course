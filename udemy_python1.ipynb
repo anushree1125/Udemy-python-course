{
  "nbformat": 4,
  "nbformat_minor": 0,
  "metadata": {
    "colab": {
      "name": "udemy_python1.ipynb",
      "provenance": [],
      "collapsed_sections": [],
      "authorship_tag": "ABX9TyOlzcyUANGkWVxd6qaOmgX2",
      "include_colab_link": true
    },
    "kernelspec": {
      "name": "python3",
      "display_name": "Python 3"
    },
    "language_info": {
      "name": "python"
    }
  },
  "cells": [
    {
      "cell_type": "markdown",
      "metadata": {
        "id": "view-in-github",
        "colab_type": "text"
      },
      "source": [
        "<a href=\"https://colab.research.google.com/github/anushree1125/Udemy_pythoncourse/blob/main/udemy_python1.ipynb\" target=\"_parent\"><img src=\"https://colab.research.google.com/assets/colab-badge.svg\" alt=\"Open In Colab\"/></a>"
      ]
    },
    {
      "cell_type": "code",
      "metadata": {
        "colab": {
          "base_uri": "https://localhost:8080/"
        },
        "id": "Dv1q0y55bPd2",
        "outputId": "7ffdd7a0-65f8-471c-ef45-835140c46fec"
      },
      "source": [
        "print(\"hello\")"
      ],
      "execution_count": null,
      "outputs": [
        {
          "output_type": "stream",
          "text": [
            "hello\n"
          ],
          "name": "stdout"
        }
      ]
    },
    {
      "cell_type": "code",
      "metadata": {
        "colab": {
          "base_uri": "https://localhost:8080/"
        },
        "id": "qTWBpddgcKNT",
        "outputId": "b22fb6b4-269c-433e-fa5b-1dd4eae536a0"
      },
      "source": [
        "a = 20\n",
        "b = \"goeduhub\"\n",
        "print(a,b)"
      ],
      "execution_count": null,
      "outputs": [
        {
          "output_type": "stream",
          "text": [
            "20 goeduhub\n"
          ],
          "name": "stdout"
        }
      ]
    },
    {
      "cell_type": "code",
      "metadata": {
        "colab": {
          "base_uri": "https://localhost:8080/"
        },
        "id": "H-4PJgiBcXec",
        "outputId": "e3cb0a1d-d6b6-46e8-822a-7dc7b526f316"
      },
      "source": [
        "import keyword\n",
        "print(keyword.kwlist)"
      ],
      "execution_count": null,
      "outputs": [
        {
          "output_type": "stream",
          "text": [
            "['False', 'None', 'True', 'and', 'as', 'assert', 'async', 'await', 'break', 'class', 'continue', 'def', 'del', 'elif', 'else', 'except', 'finally', 'for', 'from', 'global', 'if', 'import', 'in', 'is', 'lambda', 'nonlocal', 'not', 'or', 'pass', 'raise', 'return', 'try', 'while', 'with', 'yield']\n"
          ],
          "name": "stdout"
        }
      ]
    },
    {
      "cell_type": "markdown",
      "metadata": {
        "id": "ud6nd-4CvsXk"
      },
      "source": [
        "**Numerical data type**"
      ]
    },
    {
      "cell_type": "code",
      "metadata": {
        "colab": {
          "base_uri": "https://localhost:8080/"
        },
        "id": "qS0Vq4DTel5j",
        "outputId": "f9dfb8d0-608e-468e-a2db-3fa348b6c522"
      },
      "source": [
        "a = 10\n",
        "b = 20.67\n",
        "c = \"anushree\"\n",
        "print(type(a))\n",
        "print(type(b))\n",
        "print(type(c))"
      ],
      "execution_count": null,
      "outputs": [
        {
          "output_type": "stream",
          "text": [
            "<class 'int'>\n",
            "<class 'float'>\n",
            "<class 'str'>\n"
          ],
          "name": "stdout"
        }
      ]
    },
    {
      "cell_type": "code",
      "metadata": {
        "colab": {
          "base_uri": "https://localhost:8080/"
        },
        "id": "DdpfLIRTgyuk",
        "outputId": "b69124bf-657a-479e-bd15-7a92054aadce"
      },
      "source": [
        "d = 2+15j\n",
        "e = 89>56\n",
        "print(d)\n",
        "print(e)\n",
        "print(type(d))\n",
        "print(type(e))"
      ],
      "execution_count": null,
      "outputs": [
        {
          "output_type": "stream",
          "text": [
            "(2+15j)\n",
            "True\n",
            "<class 'complex'>\n",
            "<class 'bool'>\n"
          ],
          "name": "stdout"
        }
      ]
    },
    {
      "cell_type": "markdown",
      "metadata": {
        "id": "B2SVdbJVvxTC"
      },
      "source": [
        "**String data type**"
      ]
    },
    {
      "cell_type": "code",
      "metadata": {
        "colab": {
          "base_uri": "https://localhost:8080/"
        },
        "id": "zaUrVzcvhJKp",
        "outputId": "714dc999-1257-4bdf-c9a0-b57887f0b5a4"
      },
      "source": [
        "l = \"python\"\n",
        "print(l[2])"
      ],
      "execution_count": null,
      "outputs": [
        {
          "output_type": "stream",
          "text": [
            "t\n"
          ],
          "name": "stdout"
        }
      ]
    },
    {
      "cell_type": "code",
      "metadata": {
        "colab": {
          "base_uri": "https://localhost:8080/"
        },
        "id": "GE2Ff59LirGj",
        "outputId": "4cba613f-941e-4490-e3bd-8c43abf6c211"
      },
      "source": [
        "g = input()\n",
        "print('hello', g)"
      ],
      "execution_count": null,
      "outputs": [
        {
          "output_type": "stream",
          "text": [
            "anu\n",
            "hello anu\n"
          ],
          "name": "stdout"
        }
      ]
    },
    {
      "cell_type": "code",
      "metadata": {
        "colab": {
          "base_uri": "https://localhost:8080/"
        },
        "id": "3DtY4qScjIK7",
        "outputId": "f2672488-1eac-4133-a0cb-c5dd631c4575"
      },
      "source": [
        "k = 'python'\n",
        "print(k.upper())"
      ],
      "execution_count": null,
      "outputs": [
        {
          "output_type": "stream",
          "text": [
            "PYTHON\n"
          ],
          "name": "stdout"
        }
      ]
    },
    {
      "cell_type": "code",
      "metadata": {
        "colab": {
          "base_uri": "https://localhost:8080/"
        },
        "id": "xbDuAlGrjOI7",
        "outputId": "a87dcab6-1bb9-49e9-ddd5-05c8a49a6b52"
      },
      "source": [
        "k = 'python'\n",
        "c = k.replace('n','N')\n",
        "print(c)"
      ],
      "execution_count": null,
      "outputs": [
        {
          "output_type": "stream",
          "text": [
            "pythoN\n"
          ],
          "name": "stdout"
        }
      ]
    },
    {
      "cell_type": "markdown",
      "metadata": {
        "id": "nZ7DQZm4uzYE"
      },
      "source": [
        "**Lists**"
      ]
    },
    {
      "cell_type": "code",
      "metadata": {
        "colab": {
          "base_uri": "https://localhost:8080/"
        },
        "id": "RzaHLQKZtaKw",
        "outputId": "b66edda4-fb12-4e97-a1b3-91289e804fab"
      },
      "source": [
        "list = [10,20,30,40]\n",
        "print(list)\n",
        "print(\"\")\n",
        "\n",
        "list.pop()\n",
        "print(list)\n",
        "print(\"\")\n",
        "\n",
        "list.append(78)\n",
        "print(list)\n",
        "print(\"\")\n",
        "\n",
        "list.remove(10)\n",
        "print(list)\n",
        "print(\"\")\n",
        "\n",
        "list.append(0)\n",
        "print(list)\n",
        "print(\"\")\n",
        "\n",
        "list.sort()\n",
        "print(list)\n",
        "print(\"\")\n",
        "\n",
        "list.reverse()\n",
        "print(list)"
      ],
      "execution_count": null,
      "outputs": [
        {
          "output_type": "stream",
          "text": [
            "[10, 20, 30, 40]\n",
            "\n",
            "[10, 20, 30]\n",
            "\n",
            "[10, 20, 30, 78]\n",
            "\n",
            "[20, 30, 78]\n",
            "\n",
            "[20, 30, 78, 0]\n",
            "\n",
            "[0, 20, 30, 78]\n",
            "\n",
            "[78, 30, 20, 0]\n"
          ],
          "name": "stdout"
        }
      ]
    },
    {
      "cell_type": "markdown",
      "metadata": {
        "id": "7vSiqURXu28S"
      },
      "source": [
        "**Tuple**"
      ]
    },
    {
      "cell_type": "code",
      "metadata": {
        "colab": {
          "base_uri": "https://localhost:8080/"
        },
        "id": "sFhABiTJjkWh",
        "outputId": "5cb1cd73-3dd4-4d5e-9fdb-bcea1ad9703f"
      },
      "source": [
        "t1 = ('2','3','4','5')\n",
        "t1"
      ],
      "execution_count": null,
      "outputs": [
        {
          "output_type": "execute_result",
          "data": {
            "text/plain": [
              "('2', '3', '4', '5')"
            ]
          },
          "metadata": {},
          "execution_count": 42
        }
      ]
    },
    {
      "cell_type": "code",
      "metadata": {
        "colab": {
          "base_uri": "https://localhost:8080/"
        },
        "id": "u1DWD4YStClj",
        "outputId": "eb9fe90d-e208-4299-ffe2-87a253d29407"
      },
      "source": [
        "t1*2"
      ],
      "execution_count": null,
      "outputs": [
        {
          "output_type": "execute_result",
          "data": {
            "text/plain": [
              "('2', '3', '4', '5', '2', '3', '4', '5')"
            ]
          },
          "metadata": {},
          "execution_count": 15
        }
      ]
    },
    {
      "cell_type": "code",
      "metadata": {
        "colab": {
          "base_uri": "https://localhost:8080/"
        },
        "id": "6fswgWqitM4r",
        "outputId": "e640c7d7-0f4e-44fb-f8b8-ab053b041815"
      },
      "source": [
        "t2 = ('hello ','world')\n",
        "t2"
      ],
      "execution_count": null,
      "outputs": [
        {
          "output_type": "execute_result",
          "data": {
            "text/plain": [
              "('hello ', 'world')"
            ]
          },
          "metadata": {},
          "execution_count": 17
        }
      ]
    },
    {
      "cell_type": "code",
      "metadata": {
        "colab": {
          "base_uri": "https://localhost:8080/"
        },
        "id": "_o8fL__BtWhQ",
        "outputId": "77669433-6b00-4a87-eee5-60b398a9b9a0"
      },
      "source": [
        "t1+t2"
      ],
      "execution_count": null,
      "outputs": [
        {
          "output_type": "execute_result",
          "data": {
            "text/plain": [
              "('2', '3', '4', '5', 'hello ', 'world')"
            ]
          },
          "metadata": {},
          "execution_count": 18
        }
      ]
    },
    {
      "cell_type": "code",
      "metadata": {
        "id": "0i3VyF2kv5cM"
      },
      "source": [
        "del t2"
      ],
      "execution_count": null,
      "outputs": []
    },
    {
      "cell_type": "code",
      "metadata": {
        "colab": {
          "base_uri": "https://localhost:8080/",
          "height": 167
        },
        "id": "UcQtXYOE6SRe",
        "outputId": "28e22b64-1e6b-467f-b5ae-3c90359d70e3"
      },
      "source": [
        "t2 #t2 is already deleted"
      ],
      "execution_count": null,
      "outputs": [
        {
          "output_type": "error",
          "ename": "NameError",
          "evalue": "ignored",
          "traceback": [
            "\u001b[0;31m---------------------------------------------------------------------------\u001b[0m",
            "\u001b[0;31mNameError\u001b[0m                                 Traceback (most recent call last)",
            "\u001b[0;32m<ipython-input-67-be5b813c2dd9>\u001b[0m in \u001b[0;36m<module>\u001b[0;34m()\u001b[0m\n\u001b[0;32m----> 1\u001b[0;31m \u001b[0mt2\u001b[0m\u001b[0;34m\u001b[0m\u001b[0;34m\u001b[0m\u001b[0m\n\u001b[0m",
            "\u001b[0;31mNameError\u001b[0m: name 't2' is not defined"
          ]
        }
      ]
    },
    {
      "cell_type": "markdown",
      "metadata": {
        "id": "trJ-LOAk1oZg"
      },
      "source": [
        "**Dictionaries**"
      ]
    },
    {
      "cell_type": "code",
      "metadata": {
        "colab": {
          "base_uri": "https://localhost:8080/"
        },
        "id": "gQsbC5U21nzx",
        "outputId": "e5696498-0cdd-4447-99cd-3bc719d7f912"
      },
      "source": [
        "dict = {1:'a',2:'b', 3:'c'}\n",
        "print(dict)\n",
        "print(\"\")\n",
        "\n",
        "dict[4]='abc'\n",
        "print(dict)\n",
        "print(\"\")\n",
        "\n",
        "dict.pop(3)\n",
        "print(dict)\n",
        "print(\"\")\n",
        "\n",
        "dict.clear()\n",
        "print(dict)"
      ],
      "execution_count": null,
      "outputs": [
        {
          "output_type": "stream",
          "text": [
            "{1: 'a', 2: 'b', 3: 'c'}\n",
            "\n",
            "{1: 'a', 2: 'b', 3: 'c', 4: 'abc'}\n",
            "\n",
            "{1: 'a', 2: 'b', 4: 'abc'}\n",
            "\n",
            "{}\n"
          ],
          "name": "stdout"
        }
      ]
    },
    {
      "cell_type": "markdown",
      "metadata": {
        "id": "1krjsikJ4ei7"
      },
      "source": [
        "**Set**"
      ]
    },
    {
      "cell_type": "code",
      "metadata": {
        "colab": {
          "base_uri": "https://localhost:8080/"
        },
        "id": "_zhaiHpH4kly",
        "outputId": "9c8f10f6-19ca-4102-9ff8-fa56c5f72d59"
      },
      "source": [
        "set = {1,2,'abc'}\n",
        "print(set)\n",
        "print(\"\")\n",
        "\n",
        "print(len(set))\n",
        "print(\"\")\n",
        "\n",
        "for x in set: #accessing element\n",
        "  print(x)\n",
        "print(\"\")\n",
        "\n",
        "set.add('xy')\n",
        "print(set)\n",
        "print(\"\")\n",
        "\n",
        "set.update([6,89,0]) #adding multiple element\n",
        "print(set)\n",
        "print(\"\")\n",
        "\n",
        "set.remove('abc')\n",
        "print(set)\n",
        "print(\"\")\n",
        "\n",
        "set.clear()\n",
        "print(set)"
      ],
      "execution_count": null,
      "outputs": [
        {
          "output_type": "stream",
          "text": [
            "{1, 2, 'abc'}\n",
            "\n",
            "3\n",
            "\n",
            "1\n",
            "2\n",
            "abc\n",
            "\n",
            "{1, 2, 'xy', 'abc'}\n",
            "\n",
            "{0, 1, 2, 'abc', 6, 89, 'xy'}\n",
            "\n",
            "{0, 1, 2, 6, 89, 'xy'}\n",
            "\n",
            "set()\n"
          ],
          "name": "stdout"
        }
      ]
    },
    {
      "cell_type": "markdown",
      "metadata": {
        "id": "qIhb42hpD_2P"
      },
      "source": [
        "**Loop**"
      ]
    },
    {
      "cell_type": "code",
      "metadata": {
        "colab": {
          "base_uri": "https://localhost:8080/"
        },
        "id": "hnMUpbPWECg_",
        "outputId": "37d5b993-f87d-4810-89bf-2be5050ab317"
      },
      "source": [
        "for i in x:\n",
        "  print(x)"
      ],
      "execution_count": null,
      "outputs": [
        {
          "output_type": "stream",
          "text": [
            "(1, 2, 3, 4)\n",
            "(1, 2, 3, 4)\n",
            "(1, 2, 3, 4)\n",
            "(1, 2, 3, 4)\n"
          ],
          "name": "stdout"
        }
      ]
    },
    {
      "cell_type": "code",
      "metadata": {
        "colab": {
          "base_uri": "https://localhost:8080/"
        },
        "id": "oTOKdsgyFfio",
        "outputId": "b46484bf-e2d9-4e59-c7ee-c93856894cf6"
      },
      "source": [
        "x = range(3, 20, 2)\n",
        "for n in x:\n",
        "  print(n)"
      ],
      "execution_count": null,
      "outputs": [
        {
          "output_type": "stream",
          "text": [
            "3\n",
            "5\n",
            "7\n",
            "9\n",
            "11\n",
            "13\n",
            "15\n",
            "17\n",
            "19\n"
          ],
          "name": "stdout"
        }
      ]
    },
    {
      "cell_type": "markdown",
      "metadata": {
        "id": "QeRv88x0KMm_"
      },
      "source": [
        "**Conditional statement**"
      ]
    },
    {
      "cell_type": "markdown",
      "metadata": {
        "id": "lKlCVDJtlPxt"
      },
      "source": [
        "break"
      ]
    },
    {
      "cell_type": "code",
      "metadata": {
        "colab": {
          "base_uri": "https://localhost:8080/"
        },
        "id": "zqCQ5UpFKccX",
        "outputId": "c17558e1-9dad-485f-ec1e-36cf3f91c536"
      },
      "source": [
        "list = [1,2,3,4,5]\n",
        "for i in list:\n",
        "  if i == 4:\n",
        "    break\n",
        "  print(i)"
      ],
      "execution_count": null,
      "outputs": [
        {
          "output_type": "stream",
          "text": [
            "1\n",
            "2\n",
            "3\n"
          ],
          "name": "stdout"
        }
      ]
    },
    {
      "cell_type": "markdown",
      "metadata": {
        "id": "ov5fnxN3lODl"
      },
      "source": [
        "continue"
      ]
    },
    {
      "cell_type": "code",
      "metadata": {
        "colab": {
          "base_uri": "https://localhost:8080/"
        },
        "id": "06WmOcwWKMPI",
        "outputId": "c5a5a6b9-a653-48e2-9a77-56b45ba6f666"
      },
      "source": [
        "list = [1,2,3,4,5]\n",
        "for i in list:\n",
        "  if i == 4:\n",
        "    continue\n",
        "  print(i)"
      ],
      "execution_count": null,
      "outputs": [
        {
          "output_type": "stream",
          "text": [
            "1\n",
            "2\n",
            "3\n",
            "5\n"
          ],
          "name": "stdout"
        }
      ]
    },
    {
      "cell_type": "markdown",
      "metadata": {
        "id": "UL4sZufzlMkg"
      },
      "source": [
        "Pass"
      ]
    },
    {
      "cell_type": "code",
      "metadata": {
        "colab": {
          "base_uri": "https://localhost:8080/"
        },
        "id": "2-iOb5CjlLo2",
        "outputId": "675ea2d5-49ec-473f-f40a-b8e87ac2a473"
      },
      "source": [
        "list = [1,2,3,4,5,6,7,8,9,10]\n",
        "for i in list:\n",
        "  if i %2 == 0:\n",
        "    pass\n",
        "  else:\n",
        "    print(i)"
      ],
      "execution_count": null,
      "outputs": [
        {
          "output_type": "stream",
          "text": [
            "1\n",
            "3\n",
            "5\n",
            "7\n",
            "9\n"
          ],
          "name": "stdout"
        }
      ]
    },
    {
      "cell_type": "markdown",
      "metadata": {
        "id": "l68og4MZmCKB"
      },
      "source": [
        "while loop with break and continue"
      ]
    },
    {
      "cell_type": "code",
      "metadata": {
        "colab": {
          "base_uri": "https://localhost:8080/"
        },
        "id": "QDVRRJwFl5qO",
        "outputId": "80e35a7d-e310-4e09-a91c-ae8b20883fc2"
      },
      "source": [
        "num = int(input(\"Enter num: \"))\n",
        "while num>0:\n",
        "  num = num-1\n",
        "  if num == 3:\n",
        "    continue\n",
        "    print(num)\n",
        "  print(\"Number= \",num)\n",
        "\n",
        "    "
      ],
      "execution_count": null,
      "outputs": [
        {
          "output_type": "stream",
          "text": [
            "Enter num: 5\n",
            "Number=  4\n",
            "Number=  2\n",
            "Number=  1\n",
            "Number=  0\n"
          ],
          "name": "stdout"
        }
      ]
    },
    {
      "cell_type": "code",
      "metadata": {
        "colab": {
          "base_uri": "https://localhost:8080/"
        },
        "id": "Pp5AzvSmm-lx",
        "outputId": "22c06b05-86fa-4d7d-bf21-e5a6a148977e"
      },
      "source": [
        "num = int(input(\"Enter num: \"))\n",
        "while num>0:\n",
        "  num = num-1\n",
        "  if num == 3:\n",
        "    break\n",
        "    print(num)\n",
        "  print(\"Number= \",num)"
      ],
      "execution_count": null,
      "outputs": [
        {
          "output_type": "stream",
          "text": [
            "Enter num: 6\n",
            "Number=  5\n",
            "Number=  4\n"
          ],
          "name": "stdout"
        }
      ]
    },
    {
      "cell_type": "markdown",
      "metadata": {
        "id": "WKdgGclTnPw2"
      },
      "source": [
        "**Decision making in python**"
      ]
    },
    {
      "cell_type": "code",
      "metadata": {
        "colab": {
          "base_uri": "https://localhost:8080/"
        },
        "id": "jGE2-GltnNvJ",
        "outputId": "01d505c3-c5df-4eb7-cdb4-1e4afd09608f"
      },
      "source": [
        "a = int(input(\"enter 1st num:\"))\n",
        "b = int(input(\"enter 2nd num:\"))\n",
        "print(\"Larger num is\")\n",
        "if(a>b):\n",
        "  print(a)\n",
        "else:\n",
        "  print(b)"
      ],
      "execution_count": null,
      "outputs": [
        {
          "output_type": "stream",
          "text": [
            "enter 1st num:6\n",
            "enter 2nd num:7\n",
            "Larger num is\n",
            "7\n"
          ],
          "name": "stdout"
        }
      ]
    },
    {
      "cell_type": "code",
      "metadata": {
        "colab": {
          "base_uri": "https://localhost:8080/"
        },
        "id": "xqG5g1KSuenS",
        "outputId": "0647c5ad-0ec8-450f-9627-8b7181ea3929"
      },
      "source": [
        "a = int(input(\"enter 1st num:\"))\n",
        "b = int(input(\"enter 2nd num:\"))\n",
        "print(\"Larger num is\")\n",
        "if(a>b):\n",
        "  print(a)\n",
        "elif(a==b):\n",
        "  print(\"oh no! Both has same value3\")\n",
        "else:\n",
        "  print(b)"
      ],
      "execution_count": null,
      "outputs": [
        {
          "output_type": "stream",
          "text": [
            "enter 1st num:3\n",
            "enter 2nd num:3\n",
            "Larger num is\n",
            "oh no! Both has same value\n"
          ],
          "name": "stdout"
        }
      ]
    },
    {
      "cell_type": "code",
      "metadata": {
        "colab": {
          "base_uri": "https://localhost:8080/"
        },
        "id": "hn4VM_gXvB3Y",
        "outputId": "9eb63b13-5bce-473b-8ca9-ad60a863dd0b"
      },
      "source": [
        "a = int(input(\"enter num:\"))\n",
        "if(a>50):\n",
        "  print(\"Greater than 50\")\n",
        "  if a<60:\n",
        "    print(\"Less than 60\")\n",
        "  else:\n",
        "    print(\"Greater than or equal to 60\")\n",
        "else:\n",
        "  print(\"Less than 50\")\n",
        "  if a<30:\n",
        "    print(\"Less than 30\")\n",
        "  else:\n",
        "    print(\"Greater than or equal to 30\")"
      ],
      "execution_count": null,
      "outputs": [
        {
          "output_type": "stream",
          "text": [
            "enter num:45\n",
            "Less than 50\n",
            "Greater than or equal to 30\n"
          ],
          "name": "stdout"
        }
      ]
    }
  ]
}