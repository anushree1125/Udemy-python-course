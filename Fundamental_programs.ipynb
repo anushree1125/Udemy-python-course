{
  "nbformat": 4,
  "nbformat_minor": 0,
  "metadata": {
    "colab": {
      "name": "Fundamental_programs.ipynb",
      "provenance": [],
      "authorship_tag": "ABX9TyNTS2JfODXbToBqGgg0aTym",
      "include_colab_link": true
    },
    "kernelspec": {
      "name": "python3",
      "display_name": "Python 3"
    },
    "language_info": {
      "name": "python"
    }
  },
  "cells": [
    {
      "cell_type": "markdown",
      "metadata": {
        "id": "view-in-github",
        "colab_type": "text"
      },
      "source": [
        "<a href=\"https://colab.research.google.com/github/anushree1125/Udemy_pythoncourse/blob/main/Fundamental_programs.ipynb\" target=\"_parent\"><img src=\"https://colab.research.google.com/assets/colab-badge.svg\" alt=\"Open In Colab\"/></a>"
      ]
    },
    {
      "cell_type": "markdown",
      "metadata": {
        "id": "22Cw8Ylk-lWF"
      },
      "source": [
        "**Palindrome**"
      ]
    },
    {
      "cell_type": "code",
      "metadata": {
        "colab": {
          "base_uri": "https://localhost:8080/"
        },
        "id": "Odwj6MY2-oof",
        "outputId": "059cf464-4a4a-4cf4-d679-98985ccb982a"
      },
      "source": [
        "def pal(x):\n",
        "  x1 = x[::-1]\n",
        "  if x1 == x:\n",
        "    print(x,\"is a palindrome\")\n",
        "  else:\n",
        "    print(x,\"not a palindrome\")\n",
        "print(pal('ana'))"
      ],
      "execution_count": 7,
      "outputs": [
        {
          "output_type": "stream",
          "text": [
            "ana is a palindrome\n",
            "None\n"
          ],
          "name": "stdout"
        }
      ]
    },
    {
      "cell_type": "markdown",
      "metadata": {
        "id": "giwOiPyg_9he"
      },
      "source": [
        "**Factorial**"
      ]
    },
    {
      "cell_type": "code",
      "metadata": {
        "id": "UCmLjRxCACfG"
      },
      "source": [
        "def factorial(n):\n",
        "  fact=1\n",
        "  for i in range(1, n+1):\n",
        "    fact = fact*i\n",
        "    return fact\n",
        "  num = int(input(\"Enter a value \"))\n",
        "  resukt = factorial(num)\n",
        "  print(result)"
      ],
      "execution_count": 8,
      "outputs": []
    },
    {
      "cell_type": "markdown",
      "metadata": {
        "id": "2ol5Io-sEjXW"
      },
      "source": [
        "**Fibonacci series**  "
      ]
    },
    {
      "cell_type": "code",
      "metadata": {
        "id": "ytgyVV46E8u7"
      },
      "source": [
        "#every next term generated is a sum of two precedding two terms\n",
        "0 1 1 2 3 5 8..."
      ],
      "execution_count": null,
      "outputs": []
    },
    {
      "cell_type": "code",
      "metadata": {
        "colab": {
          "base_uri": "https://localhost:8080/"
        },
        "id": "d_AIC3lrFCvY",
        "outputId": "882e9d08-f395-436f-e572-17bf2f55a80d"
      },
      "source": [
        "n =  int(input(\"Enter number of elements \"))\n",
        "a =  int(input(\"Enter first element \"))\n",
        "b =  int(input(\"Enter second of element \"))\n",
        "print(a,b,end=\" \")\n",
        "while n-2:\n",
        "  c = a+b\n",
        "  a = b\n",
        "  b = c\n",
        "  print(c,end=\" \")\n",
        "  n = n-1\n"
      ],
      "execution_count": 11,
      "outputs": [
        {
          "output_type": "stream",
          "text": [
            "Enter number of elements 5\n",
            "Enter first element 1\n",
            "Enter second of element 2\n",
            "1 2 3 5 8 "
          ],
          "name": "stdout"
        }
      ]
    },
    {
      "cell_type": "markdown",
      "metadata": {
        "id": "mWG6dbpJGueB"
      },
      "source": [
        "**Program to check armstrong number**"
      ]
    },
    {
      "cell_type": "code",
      "metadata": {
        "id": "t0VjKSByGzp1"
      },
      "source": [
        "#A number is a armstrong number if sum of cube of the digits is equal to the number"
      ],
      "execution_count": null,
      "outputs": []
    },
    {
      "cell_type": "code",
      "metadata": {
        "id": "8nMM9TmVHD8y"
      },
      "source": [
        "#153 = 1^3 +  5^3 +  3^3 =153"
      ],
      "execution_count": null,
      "outputs": []
    },
    {
      "cell_type": "code",
      "metadata": {
        "colab": {
          "base_uri": "https://localhost:8080/"
        },
        "id": "JvyC8XonHpKO",
        "outputId": "122cb3ae-6d99-4bdb-dc7a-3d59da95b070"
      },
      "source": [
        "num = int(input(\"Enter the number\"))\n",
        "sum = 0\n",
        "temp = num\n",
        "while temp>0:\n",
        "  digit = temp % 10\n",
        "  sum += digit**3\n",
        "  temp //= 10\n",
        "if num == sum:\n",
        "  print(num,\" is a armstrong no\")\n",
        "else:\n",
        "  print(num,\" is not a armstrong no\") "
      ],
      "execution_count": 14,
      "outputs": [
        {
          "output_type": "stream",
          "text": [
            "Enter the number153\n",
            "153  is a armstrong no\n"
          ],
          "name": "stdout"
        }
      ]
    },
    {
      "cell_type": "markdown",
      "metadata": {
        "id": "wrsXRZLSI-ho"
      },
      "source": [
        "**Odd or even**"
      ]
    },
    {
      "cell_type": "code",
      "metadata": {
        "colab": {
          "base_uri": "https://localhost:8080/"
        },
        "id": "UOYKZcIXJCLP",
        "outputId": "567e971d-d886-472d-aefd-91e8a81e4269"
      },
      "source": [
        "num = int(input(\"Enter a number \"))\n",
        "if num%2 == 0:\n",
        "  print(\"Even numner\")\n",
        "else:\n",
        "  print(\"Odd number\")"
      ],
      "execution_count": 16,
      "outputs": [
        {
          "output_type": "stream",
          "text": [
            "Enter a number 45\n",
            "Odd number\n"
          ],
          "name": "stdout"
        }
      ]
    },
    {
      "cell_type": "markdown",
      "metadata": {
        "id": "gBGxYuZcJXEJ"
      },
      "source": [
        "**Leap year**"
      ]
    },
    {
      "cell_type": "code",
      "metadata": {
        "id": "Eo-4WnYuJiUb"
      },
      "source": [
        "# year%4 ==0 :leap year\n",
        "# year % 100==0 :not a loop\n",
        "# year % 400 ==0 : leap year\n",
        "#  year % 100==0 ,year % 400 ==0 :leap year"
      ],
      "execution_count": null,
      "outputs": []
    },
    {
      "cell_type": "code",
      "metadata": {
        "colab": {
          "base_uri": "https://localhost:8080/"
        },
        "id": "WB-siyw-KKjk",
        "outputId": "ee8fd456-2a77-4e0e-f284-1a2820c0584f"
      },
      "source": [
        "y = int(input(\"Enter the year: \"))\n",
        "if(y%4 == 0):\n",
        "  if(y% 100 ==0):\n",
        "    if( y % 400 == 0):\n",
        "      print(\"Leap year\")\n",
        "    else:\n",
        "      print(\"not a leap year\")\n",
        "  else:\n",
        "    print(\"not a leap year\")\n",
        "else:\n",
        "  print(\"not a leap year\")\n",
        "\n"
      ],
      "execution_count": 19,
      "outputs": [
        {
          "output_type": "stream",
          "text": [
            "Enter the year: 2000\n",
            "Leap year\n"
          ],
          "name": "stdout"
        }
      ]
    },
    {
      "cell_type": "markdown",
      "metadata": {
        "id": "OWBM0u0FLGJp"
      },
      "source": [
        "**Prime number**"
      ]
    },
    {
      "cell_type": "code",
      "metadata": {
        "id": "v-M5SP3ZLFs4"
      },
      "source": [
        "# factors re 1 and the number itself"
      ],
      "execution_count": null,
      "outputs": []
    },
    {
      "cell_type": "code",
      "metadata": {
        "colab": {
          "base_uri": "https://localhost:8080/"
        },
        "id": "et572c3dLRB3",
        "outputId": "83378429-c132-4104-80e2-8d02d5644fec"
      },
      "source": [
        "num = int(input(\"Enter the number\"))\n",
        "if num>1:\n",
        "  for i in range(2,num):\n",
        "    if(num%i == 0):\n",
        "      print(\"Entered number is not a prime number\")\n",
        "      print(i,\"times\",num//i,\"is\",num)\n",
        "      break\n",
        "    else:\n",
        "      print(num,\"is a prime number\")\n",
        "else:\n",
        "  print(\"Entered number is not a prime number\")"
      ],
      "execution_count": 21,
      "outputs": [
        {
          "output_type": "stream",
          "text": [
            "Enter the number8\n",
            "Entered number is not a prime number\n",
            "2 times 4 is 8\n"
          ],
          "name": "stdout"
        }
      ]
    },
    {
      "cell_type": "markdown",
      "metadata": {
        "id": "rEbdJJK-MyBR"
      },
      "source": [
        "**Areas of shape**"
      ]
    },
    {
      "cell_type": "code",
      "metadata": {
        "id": "IXLIJl0cN-hO"
      },
      "source": [
        "#findind areas of different shapes"
      ],
      "execution_count": null,
      "outputs": []
    },
    {
      "cell_type": "code",
      "metadata": {
        "colab": {
          "base_uri": "https://localhost:8080/"
        },
        "id": "XI4FzozFMxHo",
        "outputId": "c3045222-f296-4083-9977-1d4db6f3958d"
      },
      "source": [
        "import math\n",
        "pi = math.pi\n",
        "def circle(r):\n",
        "  return pi*r**2\n",
        "def cube(s):\n",
        "  return 6*s**2\n",
        "def cylinder(r,h):\n",
        "  return 2*pi*r*h + 2 * pi * r **2\n",
        "print(circle(5))\n",
        "print(cube(10))\n",
        "print(cylinder(5,10))"
      ],
      "execution_count": 24,
      "outputs": [
        {
          "output_type": "stream",
          "text": [
            "78.53981633974483\n",
            "600\n",
            "471.23889803846896\n"
          ],
          "name": "stdout"
        }
      ]
    },
    {
      "cell_type": "markdown",
      "metadata": {
        "id": "phEeW03DODvV"
      },
      "source": [
        "**List reversing**"
      ]
    },
    {
      "cell_type": "code",
      "metadata": {
        "colab": {
          "base_uri": "https://localhost:8080/"
        },
        "id": "elomsopkODQ9",
        "outputId": "ae91b7a6-de77-4454-c26d-16c17b6948fe"
      },
      "source": [
        "list = [1,2,3,4,5,6,7,8]\n",
        "print(list[::-1])  #using slicing"
      ],
      "execution_count": 25,
      "outputs": [
        {
          "output_type": "stream",
          "text": [
            "[8, 7, 6, 5, 4, 3, 2, 1]\n"
          ],
          "name": "stdout"
        }
      ]
    },
    {
      "cell_type": "code",
      "metadata": {
        "colab": {
          "base_uri": "https://localhost:8080/"
        },
        "id": "7WNa-_QbOa7N",
        "outputId": "71ffc625-53ad-4845-f015-e2e41a34bc06"
      },
      "source": [
        "list = [1,2,3,4,5,6,7,8]\n",
        "list.reverse() #using reverse method\n",
        "print(list)"
      ],
      "execution_count": 27,
      "outputs": [
        {
          "output_type": "stream",
          "text": [
            "[8, 7, 6, 5, 4, 3, 2, 1]\n"
          ],
          "name": "stdout"
        }
      ]
    }
  ]
}