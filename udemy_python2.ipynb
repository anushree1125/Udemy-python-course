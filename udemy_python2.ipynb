{
  "nbformat": 4,
  "nbformat_minor": 0,
  "metadata": {
    "colab": {
      "name": "udemy_python2.ipynb",
      "provenance": [],
      "collapsed_sections": [],
      "authorship_tag": "ABX9TyMOGj/+6QQsk9/VJ6u9m4Dh",
      "include_colab_link": true
    },
    "kernelspec": {
      "display_name": "Python 3",
      "name": "python3"
    },
    "language_info": {
      "name": "python"
    }
  },
  "cells": [
    {
      "cell_type": "markdown",
      "metadata": {
        "id": "view-in-github",
        "colab_type": "text"
      },
      "source": [
        "<a href=\"https://colab.research.google.com/github/anushree1125/Udemy_pythoncourse/blob/main/udemy_python2.ipynb\" target=\"_parent\"><img src=\"https://colab.research.google.com/assets/colab-badge.svg\" alt=\"Open In Colab\"/></a>"
      ]
    },
    {
      "cell_type": "markdown",
      "metadata": {
        "id": "uBTwtGa_11jp"
      },
      "source": [
        "**Assignment**"
      ]
    },
    {
      "cell_type": "markdown",
      "metadata": {
        "id": "SAGJkQP23Egx"
      },
      "source": [
        "1. We are having 3 list like this\n",
        "\n",
        "Colors = [“Yellow”,”Green”,”White”,”Black”]\n",
        "\n",
        "Fruits=[“Apple”,”Papaya”,”Mango”,”Orange”]\n",
        "\n",
        "Animals=[“Tiger”,”Lion”,”Deer”,”Zebra”]\n",
        "\n",
        "i. Write a program that asks user to enter a Color/Fruit/Animal name and it should tell which category belongs to , like its is a fruit or color or Animal\n",
        "\n",
        "ii. Write a program that asks user to enter two items and it tells you if they both are in same category or not. For example if I enter yellow and Black, it will print \"Both are colors\" but if I enter yellow and Tiger it should print \"They don't belong to same category\""
      ]
    },
    {
      "cell_type": "code",
      "metadata": {
        "colab": {
          "base_uri": "https://localhost:8080/"
        },
        "id": "VUn7FLYCwvIw",
        "outputId": "aab1f4e0-af38-46b1-83e7-d1d639d82f23"
      },
      "source": [
        "Colors = ['Yellow','Green','White','Black']\n",
        "\n",
        "Fruits=['Apple','Papaya','Mango','Orange']\n",
        "\n",
        "Animals=['Tiger','Lion','Deer','Zebra']\n",
        "\n",
        "userInput = input(\"enter a Color/Fruit/Animal name  \")\n",
        "if userInput in Colors:\n",
        "  print(\"its is a color\")\n",
        "elif userInput in Fruits:\n",
        "  print(\"its is a Fruit\")\n",
        "else:\n",
        "  print(\"its is a Animals\")"
      ],
      "execution_count": null,
      "outputs": [
        {
          "name": "stdout",
          "output_type": "stream",
          "text": [
            "enter a Color/Fruit/Animal name  lion\n",
            "its is a Animals\n"
          ]
        }
      ]
    },
    {
      "cell_type": "code",
      "metadata": {
        "colab": {
          "base_uri": "https://localhost:8080/"
        },
        "id": "N3SjJsYi5z4A",
        "outputId": "41674a2b-9552-42b6-c28b-2e5adb72543e"
      },
      "source": [
        "Colors = ['Yellow','Green','White','Black']\n",
        "\n",
        "Fruits=['Apple','Papaya','Mango','Orange']\n",
        "\n",
        "Animals=['Tiger','Lion','Deer','Zebra']\n",
        "\n",
        "userInput1 = input(\"enter a Color/Fruit/Animal name  \")\n",
        "userInput2 = input(\"enter a Color/Fruit/Animal name  \")\n",
        "if userInput1 in Colors and userInput2 in Colors:\n",
        "  print(\"both are in Colors category\")\n",
        "elif userInput1 in Fruits and userInput2 in Fruits:\n",
        "  print(\"both are in Fruits category\")\n",
        "elif userInput1 in Animals and userInput2 in Animals:\n",
        "   print(\"both are in Animals category\")\n",
        "else:\n",
        "   print(\"They don't belong to same category\")\n"
      ],
      "execution_count": null,
      "outputs": [
        {
          "output_type": "stream",
          "text": [
            "enter a Color/Fruit/Animal name  Apple\n",
            "enter a Color/Fruit/Animal name  Papaya\n",
            "both are in Fruits category\n"
          ],
          "name": "stdout"
        }
      ]
    },
    {
      "cell_type": "code",
      "metadata": {
        "colab": {
          "base_uri": "https://localhost:8080/"
        },
        "id": "artagfNY-Ojp",
        "outputId": "6393a14a-d2b7-4be0-c17b-0573be1249aa"
      },
      "source": [
        "Colors = ['Yellow','Green','White','Black']\n",
        "\n",
        "Fruits=['Apple','Papaya','Mango','Orange']\n",
        "\n",
        "Animals=['Tiger','Lion','Deer','Zebra']\n",
        "userInput1 = input(\"enter a Color/Fruit/Animal name  \")\n",
        "userInput2 = input(\"enter a Color/Fruit/Animal name  \")\n",
        "if userInput1 in Colors and userInput2 in Colors:\n",
        "  print(\"both are in Colors category\")\n",
        "elif userInput1 in Fruits and userInput2 in Fruits:\n",
        "  print(\"both are in Fruits category\")\n",
        "elif userInput1 in Animals and userInput2 in Animals:\n",
        "   print(\"both are in Animals category\")\n",
        "else:\n",
        "   print(\"They don't belong to same category\")"
      ],
      "execution_count": null,
      "outputs": [
        {
          "output_type": "stream",
          "text": [
            "enter a Color/Fruit/Animal name  White\n",
            "enter a Color/Fruit/Animal name  Zebra\n",
            "They don't belong to same category\n"
          ],
          "name": "stdout"
        }
      ]
    }
  ]
}